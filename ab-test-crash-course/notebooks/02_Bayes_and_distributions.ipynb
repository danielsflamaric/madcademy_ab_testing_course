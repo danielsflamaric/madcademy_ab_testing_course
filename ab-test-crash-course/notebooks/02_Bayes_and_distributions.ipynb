{
 "cells": [
  {
   "cell_type": "code",
   "execution_count": 1,
   "metadata": {},
   "outputs": [],
   "source": [
    "import os\n",
    "\n",
    "%matplotlib inline\n",
    "import numpy as np\n",
    "import matplotlib.pyplot as plt\n",
    "import pandas as pd\n",
    "import matplotlib.pyplot as plt\n",
    "from scipy.stats import norm\n",
    "from IPython.display import Math, Latex\n",
    "from matplotlib import figure\n",
    "from ipywidgets import interact\n",
    "from ipywidgets.embed import embed_minimal_html\n",
    "\n",
    "\n",
    "import seaborn as sns\n",
    "\n",
    "# for consistent results, set random seed\n",
    "np.random.seed(42)"
   ]
  },
  {
   "cell_type": "markdown",
   "metadata": {},
   "source": [
    "## 1. Eative, January 2021"
   ]
  },
  {
   "cell_type": "code",
   "execution_count": 2,
   "metadata": {},
   "outputs": [],
   "source": [
    "# Canada\n",
    "CA_converted = 150\n",
    "CA_not_converted = 2081\n",
    "sessions_CA = CA_converted + CA_not_converted\n",
    "\n",
    "# UK\n",
    "UK_converted = 425\n",
    "UK_not_converted = 5821\n",
    "sessions_UK = UK_converted + UK_not_converted\n",
    "\n",
    "# US\n",
    "US_converted = 1217\n",
    "US_not_converted = 11735\n",
    "sessions_US = US_converted + US_not_converted\n",
    "\n",
    "# Total\n",
    "sessions_total = sessions_CA + sessions_UK + sessions_US"
   ]
  },
  {
   "cell_type": "markdown",
   "metadata": {},
   "source": [
    "#### Marginal probabilities"
   ]
  },
  {
   "cell_type": "code",
   "execution_count": 3,
   "metadata": {},
   "outputs": [
    {
     "name": "stdout",
     "output_type": "stream",
     "text": [
      "Marginal probability of CA, p(CA):\n",
      " 0.1041\n",
      "Marginal probability of UK, p(UK):\n",
      " 0.2915\n",
      "Marginal probability of US, p(US):\n",
      " 0.6044\n",
      "Sum of marginals: p(CA) + p(UK) + p(US):\n",
      " 1.0\n"
     ]
    }
   ],
   "source": [
    "marginal_CA = round((sessions_CA / sessions_total), 4)\n",
    "marginal_UK = round((sessions_UK / sessions_total), 4)\n",
    "marginal_US = round((sessions_US / sessions_total), 4)\n",
    "\n",
    "print(f'Marginal probability of CA, p(CA):\\n {marginal_CA}')\n",
    "print(f'Marginal probability of UK, p(UK):\\n {marginal_UK}')\n",
    "print(f'Marginal probability of US, p(US):\\n {marginal_US}')\n",
    "\n",
    "print(f'Sum of marginals: p(CA) + p(UK) + p(US):\\n {marginal_CA + marginal_UK + marginal_US}')"
   ]
  },
  {
   "cell_type": "markdown",
   "metadata": {},
   "source": [
    "#### Joint probabilities"
   ]
  },
  {
   "cell_type": "code",
   "execution_count": 4,
   "metadata": {},
   "outputs": [
    {
     "name": "stdout",
     "output_type": "stream",
     "text": [
      "Joint probability of conversion and CA, p(T, CA):\n",
      " 0.007\n",
      "Joint probability of non-conversion and CA, p(F, CA):\n",
      " 0.0971\n",
      "Joint probability of conversion and UK, p(T, UK):\n",
      " 0.0198\n",
      "Joint probability of non-conversion and CA, p(F, UK):\n",
      " 0.2716\n",
      "Joint probability of conversion and US, p(T, US):\n",
      " 0.0568\n",
      "Joint probability of non-conversion and US, p(F, US):\n",
      " 0.5476\n",
      "Sum of joints:\n",
      " 0.9999\n"
     ]
    }
   ],
   "source": [
    "conv_and_CA = round((CA_converted / sessions_total), 4)\n",
    "non_conv_and_CA = round((CA_not_converted / sessions_total), 4)\n",
    "conv_and_UK = round((UK_converted / sessions_total), 4)\n",
    "non_conv_and_UK = round((UK_not_converted / sessions_total), 4)\n",
    "conv_and_US = round((US_converted / sessions_total), 4)\n",
    "non_conv_and_US = round((US_not_converted / sessions_total), 4)\n",
    "\n",
    "\n",
    "print(f'Joint probability of conversion and CA, p(T, CA):\\n {conv_and_CA}')\n",
    "print(f'Joint probability of non-conversion and CA, p(F, CA):\\n {non_conv_and_CA}')\n",
    "print(f'Joint probability of conversion and UK, p(T, UK):\\n {conv_and_UK}')\n",
    "print(f'Joint probability of non-conversion and CA, p(F, UK):\\n {non_conv_and_UK}')\n",
    "print(f'Joint probability of conversion and US, p(T, US):\\n {conv_and_US}')\n",
    "print(f'Joint probability of non-conversion and US, p(F, US):\\n {non_conv_and_US}')\n",
    "\n",
    "print(f'Sum of joints:\\n {conv_and_CA+non_conv_and_CA+conv_and_UK+non_conv_and_UK+conv_and_US+non_conv_and_US}')"
   ]
  },
  {
   "cell_type": "markdown",
   "metadata": {},
   "source": [
    "The more random variables, the more values approaching zero, as all together must sum up to 1. This can be a problem when dealing with complex probabilities, and it's known as the [Curse of Dimensionality](https://en.wikipedia.org/wiki/Curse_of_dimensionality)."
   ]
  },
  {
   "cell_type": "markdown",
   "metadata": {},
   "source": [
    "#### Conditional probabilities"
   ]
  },
  {
   "cell_type": "code",
   "execution_count": 5,
   "metadata": {},
   "outputs": [
    {
     "name": "stdout",
     "output_type": "stream",
     "text": [
      "Conditional probability of conversion given CA, p(T|CA):\n",
      " 0.0672\n",
      "Conditional probability of non-conversion given CA, p(F|CA):\n",
      " 0.9328\n",
      "Conditional probability of conversion given UK, p(T|UK):\n",
      " 0.0679\n",
      "Conditional probability of non-conversion given UK, p(F|UK):\n",
      " 0.9317\n",
      "Conditional probability of conversion given US, p(T|US):\n",
      " 0.094\n",
      "Conditional probability of non-conversion given US, p(F|US):\n",
      " 0.906\n"
     ]
    }
   ],
   "source": [
    "conv_given_CA = round((conv_and_CA / marginal_CA), 4)\n",
    "non_conv_given_CA = round((non_conv_and_CA / marginal_CA), 4)\n",
    "conv_given_UK = round((conv_and_UK / marginal_UK), 4)\n",
    "non_conv_given_UK = round((non_conv_and_UK / marginal_UK), 4)\n",
    "conv_given_US = round((conv_and_US / marginal_US), 4)\n",
    "non_conv_given_US = round((non_conv_and_US / marginal_US), 4)\n",
    "\n",
    "\n",
    "print(f'Conditional probability of conversion given CA, p(T|CA):\\n {conv_given_CA}')\n",
    "print(f'Conditional probability of non-conversion given CA, p(F|CA):\\n {non_conv_given_CA}')\n",
    "print(f'Conditional probability of conversion given UK, p(T|UK):\\n {conv_given_UK}')\n",
    "print(f'Conditional probability of non-conversion given UK, p(F|UK):\\n {non_conv_given_UK}')\n",
    "print(f'Conditional probability of conversion given US, p(T|US):\\n {conv_given_US}')\n",
    "print(f'Conditional probability of non-conversion given US, p(F|US):\\n {non_conv_given_US}')"
   ]
  },
  {
   "cell_type": "markdown",
   "metadata": {},
   "source": [
    "## 2. Distributions\n",
    "\n",
    "#### Uniform"
   ]
  },
  {
   "cell_type": "code",
   "execution_count": 6,
   "metadata": {},
   "outputs": [],
   "source": [
    "from scipy.stats import uniform\n",
    "\n",
    "# random numbers from uniform distribution (play with them!)\n",
    "n = 10000\n",
    "start = 10\n",
    "width = 20\n",
    "data_uniform = uniform.rvs(size=n, loc = start, scale=width)"
   ]
  },
  {
   "cell_type": "code",
   "execution_count": 7,
   "metadata": {},
   "outputs": [
    {
     "data": {
      "image/png": "[encoded data removed]",
      "text/plain": [
       "<Figure size 540x360 with 1 Axes>"
      ]
     },
     "metadata": {
      "needs_background": "light"
     },
     "output_type": "display_data"
    }
   ],
   "source": [
    "# draw distribution\n",
    "ax = sns.displot(data_uniform,\n",
    "                 bins=100,\n",
    "                 kde=True,\n",
    "                 color='skyblue',\n",
    "                 height=(5),\n",
    "                 aspect=1.5)\n",
    "\n",
    "ax.set(xlabel='Uniform Distribution ', ylabel='Frequency');"
   ]
  },
  {
   "cell_type": "markdown",
   "metadata": {},
   "source": [
    "#### Bernoulli"
   ]
  },
  {
   "cell_type": "code",
   "execution_count": 8,
   "metadata": {},
   "outputs": [],
   "source": [
    "from scipy.stats import bernoulli\n",
    "\n",
    "# generate data\n",
    "data_bern = bernoulli.rvs(size=10000,p=0.6)"
   ]
  },
  {
   "cell_type": "code",
   "execution_count": 9,
   "metadata": {},
   "outputs": [
    {
     "data": {
      "image/png": "[encoded data removed]",
      "text/plain": [
       "<Figure size 540x360 with 1 Axes>"
      ]
     },
     "metadata": {
      "needs_background": "light"
     },
     "output_type": "display_data"
    }
   ],
   "source": [
    "# draw distribution\n",
    "ax= sns.displot(data_bern,\n",
    "                 kde=False,\n",
    "                 color=\"skyblue\",\n",
    "                 height=5,\n",
    "                 aspect=1.5)\n",
    "\n",
    "ax.set(xlabel='Bernoulli Distribution', ylabel='Frequency');"
   ]
  },
  {
   "cell_type": "markdown",
   "metadata": {},
   "source": [
    "#### Normal, Gaussian"
   ]
  },
  {
   "cell_type": "code",
   "execution_count": 10,
   "metadata": {},
   "outputs": [],
   "source": [
    "from scipy.stats import norm\n",
    "\n",
    "# generate random numbers from N(0,1)\n",
    "data_normal = norm.rvs(size=10000,\n",
    "                       loc=0, # mean of the distribution\n",
    "                       scale=1) # standard deviation"
   ]
  },
  {
   "cell_type": "code",
   "execution_count": 11,
   "metadata": {},
   "outputs": [
    {
     "data": {
      "image/png": "[encoded data removed]",
      "text/plain": [
       "<Figure size 540x360 with 1 Axes>"
      ]
     },
     "metadata": {
      "needs_background": "light"
     },
     "output_type": "display_data"
    }
   ],
   "source": [
    "# draw distribution\n",
    "ax = sns.displot(data_normal,\n",
    "                 bins=100,\n",
    "                 kde=True,\n",
    "                 color='skyblue',\n",
    "                 height=5,\n",
    "                 aspect=1.5)\n",
    "\n",
    "ax.set(xlabel='Normal Distribution', ylabel='Frequency');"
   ]
  },
  {
   "cell_type": "markdown",
   "metadata": {},
   "source": [
    "#### Gamma\n",
    "\n",
    "Rarely used in its raw form, exponential, chi-squared, erlang distributions are special cases of the gamma distribution."
   ]
  },
  {
   "cell_type": "code",
   "execution_count": 12,
   "metadata": {},
   "outputs": [],
   "source": [
    "from scipy.stats import gamma\n",
    "\n",
    "# generate random data for gamma distribution\n",
    "data_gamma = gamma.rvs(a=5, size=10000)"
   ]
  },
  {
   "cell_type": "code",
   "execution_count": 13,
   "metadata": {},
   "outputs": [
    {
     "data": {
      "image/png": "[encoded data removed]",
      "text/plain": [
       "<Figure size 540x360 with 1 Axes>"
      ]
     },
     "metadata": {
      "needs_background": "light"
     },
     "output_type": "display_data"
    }
   ],
   "source": [
    "# draw distribution\n",
    "ax = sns.displot(data_gamma,\n",
    "                 kde=True,\n",
    "                 bins=100,\n",
    "                 color='skyblue',\n",
    "                 height=5,\n",
    "                 aspect=1.5)\n",
    "\n",
    "ax.set(xlabel='Gamma Distribution', ylabel='Frequency');"
   ]
  },
  {
   "cell_type": "markdown",
   "metadata": {},
   "source": [
    "#### Exponential"
   ]
  },
  {
   "cell_type": "code",
   "execution_count": 14,
   "metadata": {
    "scrolled": true
   },
   "outputs": [],
   "source": [
    "from scipy.stats import expon\n",
    "\n",
    "# generate random values for exponential\n",
    "data_expon = expon.rvs(scale=1,loc=0,size=1000)"
   ]
  },
  {
   "cell_type": "code",
   "execution_count": 15,
   "metadata": {},
   "outputs": [
    {
     "data": {
      "image/png": "[encoded data removed]",
      "text/plain": [
       "<Figure size 540x360 with 1 Axes>"
      ]
     },
     "metadata": {
      "needs_background": "light"
     },
     "output_type": "display_data"
    }
   ],
   "source": [
    "# draw\n",
    "ax = sns.displot(data_expon,\n",
    "                  kde=True,\n",
    "                  bins=100,\n",
    "                  color='skyblue',\n",
    "                  height=5,\n",
    "                  aspect=1.5)\n",
    "\n",
    "ax.set(xlabel='Exponential Distribution', ylabel='Frequency');"
   ]
  },
  {
   "cell_type": "markdown",
   "metadata": {},
   "source": [
    "#### Poisson"
   ]
  },
  {
   "cell_type": "code",
   "execution_count": 16,
   "metadata": {},
   "outputs": [],
   "source": [
    "from scipy.stats import poisson\n",
    "\n",
    "# gnerat data\n",
    "data_poisson = poisson.rvs(mu=3, size=10000)"
   ]
  },
  {
   "cell_type": "code",
   "execution_count": 17,
   "metadata": {},
   "outputs": [
    {
     "data": {
      "image/png": "[encoded data removed]",
      "text/plain": [
       "<Figure size 540x360 with 1 Axes>"
      ]
     },
     "metadata": {
      "needs_background": "light"
     },
     "output_type": "display_data"
    }
   ],
   "source": [
    "ax = sns.displot(data_poisson,\n",
    "                  bins=30,\n",
    "                  kde=False,\n",
    "                  color='skyblue',\n",
    "                  height=5,\n",
    "                  aspect=1.5)\n",
    "\n",
    "ax.set(xlabel='Poisson Distribution', ylabel='Frequency');"
   ]
  },
  {
   "cell_type": "markdown",
   "metadata": {},
   "source": [
    "#### Binomial"
   ]
  },
  {
   "cell_type": "code",
   "execution_count": 18,
   "metadata": {},
   "outputs": [],
   "source": [
    "from scipy.stats import binom\n",
    "\n",
    "# generate data\n",
    "data_binom = binom.rvs(n=10, p=0.8, size=10000)"
   ]
  },
  {
   "cell_type": "code",
   "execution_count": 19,
   "metadata": {},
   "outputs": [
    {
     "data": {
      "image/png": "[encoded data removed]",
      "text/plain": [
       "<Figure size 540x360 with 1 Axes>"
      ]
     },
     "metadata": {
      "needs_background": "light"
     },
     "output_type": "display_data"
    }
   ],
   "source": [
    "# draw distribution\n",
    "ax = sns.displot(data_binom,\n",
    "                  kde=False,\n",
    "                  color='skyblue',\n",
    "                  height=5,\n",
    "                  aspect=1.5)\n",
    "\n",
    "ax.set(xlabel='Binomial Distribution', ylabel='Frequency');"
   ]
  },
  {
   "cell_type": "markdown",
   "metadata": {},
   "source": [
    "#### Dice rolls"
   ]
  },
  {
   "cell_type": "code",
   "execution_count": 23,
   "metadata": {},
   "outputs": [],
   "source": [
    "# Generate random integers between 1 and 6 \n",
    "n_simulations = 10000\n",
    "x = np.random.randint(1, 7, n_simulations)"
   ]
  },
  {
   "cell_type": "code",
   "execution_count": 25,
   "metadata": {},
   "outputs": [
    {
     "data": {
      "image/png": "[encoded data removed]",
      "text/plain": [
       "<Figure size 540x360 with 1 Axes>"
      ]
     },
     "metadata": {
      "needs_background": "light"
     },
     "output_type": "display_data"
    }
   ],
   "source": [
    "# draw distribution\n",
    "sns.displot(x,\n",
    "            kde=False,\n",
    "            color='skyblue',\n",
    "            height=5,\n",
    "            aspect=1.5)\n",
    "ax.set(xlabel='Distribution of Dice Rolls', ylabel='Count');"
   ]
  },
  {
   "cell_type": "markdown",
   "metadata": {},
   "source": [
    "#### N-dice rolls"
   ]
  },
  {
   "cell_type": "code",
   "execution_count": 26,
   "metadata": {},
   "outputs": [],
   "source": [
    "# one single dice \n",
    "def the_dice():\n",
    "    return round(np.random.uniform(low = 0.5, high = 6.5, size = None), 0)\n",
    "\n",
    "\n",
    "# n-dice \n",
    "def summing_dice(n):\n",
    "    outcomes_array = np.zeros(n)\n",
    "    for dice in range(0, n):\n",
    "        outcomes_array[dice] = the_dice()\n",
    "    return sum(outcomes_array)\n",
    "\n",
    "\n",
    "# throws the set of n dice m times and stores the outcome\n",
    "def the_rolling_of_dice(m, n):\n",
    "    histo = np.zeros(m)\n",
    "    for i in range(0,m):\n",
    "        histo[i] = summing_dice(n)\n",
    "    return histo\n",
    "\n",
    "\n",
    "# histogram from the n trials of experimental data and normalisation to get probability distribution\n",
    "def hand_made_histogram(sim_data, min_range, max_range):\n",
    "    numberofInts = []\n",
    "    for i in range(min_range, max_range+1):\n",
    "        numberofsingeint = np.where(sim_data == i)[0]\n",
    "        numberofInts.append(len(numberofsingeint))\n",
    "    return [float(x)/sum(numberofInts) for x in numberofInts]\n",
    "\n",
    "\n",
    "# return normalised histogram of the distribution of possible sums, the minimum possible and maximum possible sum\n",
    "def from_random_var_to_data(n_trials, n_dice):\n",
    "    sim_data = the_rolling_of_dice(n_trials, n_dice)\n",
    "    min_range, max_range = n_dice, 6*n_dice\n",
    "    HandMadeHist = hand_made_histogram(sim_data, min_range, max_range)\n",
    "    return HandMadeHist,min_range,max_range"
   ]
  },
  {
   "cell_type": "code",
   "execution_count": 27,
   "metadata": {},
   "outputs": [
    {
     "data": {
      "application/vnd.jupyter.widget-view+json": {
       "model_id": "493454cb75c64e3a99baf40f4884b6f2",
       "version_major": 2,
       "version_minor": 0
      },
      "text/plain": [
       "interactive(children=(IntSlider(value=5, description='num_of_dice', max=15, min=-5), Output()), _dom_classes=(…"
      ]
     },
     "metadata": {},
     "output_type": "display_data"
    }
   ],
   "source": [
    "@interact\n",
    "def n_dice_probability_distribution(num_of_dice = 5):\n",
    "    HandMadeHist,min_range,max_range = from_random_var_to_data(100000, num_of_dice)\n",
    "    df = pd.DataFrame(HandMadeHist,range(min_range,max_range+1), columns = [\"probability\"])\n",
    "    sns.color_palette(\"Set2\")\n",
    "    sns.set(rc={'figure.figsize':(20,8)})\n",
    "    ax = sns.scatterplot(x=range(min_range,max_range+1),y=HandMadeHist, palette = \"Set2\")\n",
    "    ax.set(title = \"Probability distribution for %s dice\"%(num_of_dice), xlabel='Value', ylabel='probability')\n",
    "    return plt.figure();"
   ]
  },
  {
   "cell_type": "code",
   "execution_count": null,
   "metadata": {},
   "outputs": [],
   "source": []
  }
 ],
 "metadata": {
  "kernelspec": {
   "display_name": "python3-teamcmp",
   "language": "python",
   "name": "python3-teamcmp"
  },
  "language_info": {
   "codemirror_mode": {
    "name": "ipython",
    "version": 3
   },
   "file_extension": ".py",
   "mimetype": "text/x-python",
   "name": "python",
   "nbconvert_exporter": "python",
   "pygments_lexer": "ipython3",
   "version": "3.9.2"
  }
 },
 "nbformat": 4,
 "nbformat_minor": 4
}
